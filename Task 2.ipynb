{
 "cells": [
  {
   "cell_type": "code",
   "execution_count": 1,
   "metadata": {
    "ExecuteTime": {
     "end_time": "2021-10-02T19:30:58.450295Z",
     "start_time": "2021-10-02T19:30:57.714422Z"
    }
   },
   "outputs": [],
   "source": [
    "import pandas as pd\n",
    "import numpy as np\n",
    "\n",
    "pd.set_option(\"display.max_columns\", None)\n",
    "# pd.set_option(\"display.max_rows\", None)"
   ]
  },
  {
   "cell_type": "code",
   "execution_count": 19,
   "metadata": {
    "ExecuteTime": {
     "end_time": "2021-10-02T19:35:25.722772Z",
     "start_time": "2021-10-02T19:35:24.924998Z"
    }
   },
   "outputs": [
    {
     "name": "stderr",
     "output_type": "stream",
     "text": [
      "/Users/patrickmccaul/opt/anaconda3/envs/dsi/lib/python3.7/site-packages/IPython/core/interactiveshell.py:3063: DtypeWarning: Columns (3,8,9,10,11,12,13) have mixed types.Specify dtype option on import or set low_memory=False.\n",
      "  interactivity=interactivity, compiler=compiler, result=result)\n"
     ]
    }
   ],
   "source": [
    "returns = pd.read_csv(\"./data/raw/results_sort_20141104.txt\", sep=\"\\t\", header=None)\n",
    "returns.columns = returns.iloc[0]\n",
    "returns.drop([0,0], inplace=True)\n",
    "returns.reset_index(drop=True, inplace=True)\n",
    "\n",
    "returns[\"Total Votes\"] = returns[\"Total Votes\"].astype(int)\n",
    "returns[\"Contest Name\"] = returns[\"Contest Name\"].str.lower()\n",
    "returns[\"Choice Party\"].fillna(\"Party_NA\", inplace=True)\n",
    "returns = returns.loc[(returns[\"Contest Name\"].str.contains(\"us senate\")) | returns[\"Contest Name\"].str.contains(\"appeals\")] \n",
    "returns[\"id\"] = returns[\"Choice\"] + \"_\" + returns[\"Choice Party\"] + \"_\" + returns[\"Contest Name\"]\n",
    "\n",
    "returns"
   ]
  },
  {
   "cell_type": "code",
   "execution_count": 36,
   "metadata": {
    "ExecuteTime": {
     "end_time": "2021-10-02T19:50:30.852976Z",
     "start_time": "2021-10-02T19:50:30.811118Z"
    }
   },
   "outputs": [
    {
     "data": {
      "text/html": [
       "<div>\n",
       "<style scoped>\n",
       "    .dataframe tbody tr th:only-of-type {\n",
       "        vertical-align: middle;\n",
       "    }\n",
       "\n",
       "    .dataframe tbody tr th {\n",
       "        vertical-align: top;\n",
       "    }\n",
       "\n",
       "    .dataframe thead th {\n",
       "        text-align: right;\n",
       "    }\n",
       "</style>\n",
       "<table border=\"1\" class=\"dataframe\">\n",
       "  <thead>\n",
       "    <tr style=\"text-align: right;\">\n",
       "      <th></th>\n",
       "      <th>County</th>\n",
       "      <th>id</th>\n",
       "      <th>Total Votes</th>\n",
       "    </tr>\n",
       "  </thead>\n",
       "  <tbody>\n",
       "    <tr>\n",
       "      <th>0</th>\n",
       "      <td>ALAMANCE</td>\n",
       "      <td>Abe Jones_Party_NA_nc court of appeals judge (...</td>\n",
       "      <td>575</td>\n",
       "    </tr>\n",
       "    <tr>\n",
       "      <th>1</th>\n",
       "      <td>ALAMANCE</td>\n",
       "      <td>Ann Kirby_Party_NA_nc court of appeals judge (...</td>\n",
       "      <td>1321</td>\n",
       "    </tr>\n",
       "    <tr>\n",
       "      <th>2</th>\n",
       "      <td>ALAMANCE</td>\n",
       "      <td>Betsy Bunting_Party_NA_nc court of appeals jud...</td>\n",
       "      <td>617</td>\n",
       "    </tr>\n",
       "    <tr>\n",
       "      <th>3</th>\n",
       "      <td>ALAMANCE</td>\n",
       "      <td>Bill Southern_Party_NA_nc court of appeals jud...</td>\n",
       "      <td>18630</td>\n",
       "    </tr>\n",
       "    <tr>\n",
       "      <th>4</th>\n",
       "      <td>ALAMANCE</td>\n",
       "      <td>Chuck Winfree_Party_NA_nc court of appeals jud...</td>\n",
       "      <td>798</td>\n",
       "    </tr>\n",
       "    <tr>\n",
       "      <th>...</th>\n",
       "      <td>...</td>\n",
       "      <td>...</td>\n",
       "      <td>...</td>\n",
       "    </tr>\n",
       "    <tr>\n",
       "      <th>2812</th>\n",
       "      <td>YANCEY</td>\n",
       "      <td>Sean Haugh_LIB_us senate</td>\n",
       "      <td>412</td>\n",
       "    </tr>\n",
       "    <tr>\n",
       "      <th>2813</th>\n",
       "      <td>YANCEY</td>\n",
       "      <td>Thom Tillis_REP_us senate</td>\n",
       "      <td>4343</td>\n",
       "    </tr>\n",
       "    <tr>\n",
       "      <th>2814</th>\n",
       "      <td>YANCEY</td>\n",
       "      <td>Tricia Shields_Party_NA_nc court of appeals ju...</td>\n",
       "      <td>112</td>\n",
       "    </tr>\n",
       "    <tr>\n",
       "      <th>2815</th>\n",
       "      <td>YANCEY</td>\n",
       "      <td>Valerie Johnson Zachary_Party_NA_nc court of a...</td>\n",
       "      <td>129</td>\n",
       "    </tr>\n",
       "    <tr>\n",
       "      <th>2816</th>\n",
       "      <td>YANCEY</td>\n",
       "      <td>Write-In (Miscellaneous)_Party_NA_us senate</td>\n",
       "      <td>17</td>\n",
       "    </tr>\n",
       "  </tbody>\n",
       "</table>\n",
       "<p>2817 rows × 3 columns</p>\n",
       "</div>"
      ],
      "text/plain": [
       "0       County                                                 id  Total Votes\n",
       "0     ALAMANCE  Abe Jones_Party_NA_nc court of appeals judge (...          575\n",
       "1     ALAMANCE  Ann Kirby_Party_NA_nc court of appeals judge (...         1321\n",
       "2     ALAMANCE  Betsy Bunting_Party_NA_nc court of appeals jud...          617\n",
       "3     ALAMANCE  Bill Southern_Party_NA_nc court of appeals jud...        18630\n",
       "4     ALAMANCE  Chuck Winfree_Party_NA_nc court of appeals jud...          798\n",
       "...        ...                                                ...          ...\n",
       "2812    YANCEY                           Sean Haugh_LIB_us senate          412\n",
       "2813    YANCEY                          Thom Tillis_REP_us senate         4343\n",
       "2814    YANCEY  Tricia Shields_Party_NA_nc court of appeals ju...          112\n",
       "2815    YANCEY  Valerie Johnson Zachary_Party_NA_nc court of a...          129\n",
       "2816    YANCEY        Write-In (Miscellaneous)_Party_NA_us senate           17\n",
       "\n",
       "[2817 rows x 3 columns]"
      ]
     },
     "execution_count": 36,
     "metadata": {},
     "output_type": "execute_result"
    }
   ],
   "source": [
    "# agg returns by county for total votes for candidate\n",
    "agg_returns = returns.groupby([\"County\", \"id\"], as_index=False)[\"Total Votes\"].sum()\n",
    "agg_returns"
   ]
  },
  {
   "cell_type": "code",
   "execution_count": 44,
   "metadata": {
    "ExecuteTime": {
     "end_time": "2021-10-02T19:57:44.371198Z",
     "start_time": "2021-10-02T19:57:44.361513Z"
    }
   },
   "outputs": [],
   "source": [
    "output = agg_returns.pivot(index=\"County\", columns=\"id\",\n",
    "                           values=\"Total Votes\")\n",
    "output"
   ]
  },
  {
   "cell_type": "code",
   "execution_count": 46,
   "metadata": {
    "ExecuteTime": {
     "end_time": "2021-10-02T20:00:13.961511Z",
     "start_time": "2021-10-02T20:00:13.945501Z"
    }
   },
   "outputs": [],
   "source": [
    "output.to_csv(\"./data/processed/task2-output.csv\")"
   ]
  }
 ],
 "metadata": {
  "kernelspec": {
   "display_name": "Python [conda env:dsi]",
   "language": "python",
   "name": "conda-env-dsi-py"
  },
  "language_info": {
   "codemirror_mode": {
    "name": "ipython",
    "version": 3
   },
   "file_extension": ".py",
   "mimetype": "text/x-python",
   "name": "python",
   "nbconvert_exporter": "python",
   "pygments_lexer": "ipython3",
   "version": "3.7.6"
  },
  "toc": {
   "base_numbering": 1,
   "nav_menu": {},
   "number_sections": true,
   "sideBar": true,
   "skip_h1_title": false,
   "title_cell": "Table of Contents",
   "title_sidebar": "Contents",
   "toc_cell": false,
   "toc_position": {},
   "toc_section_display": true,
   "toc_window_display": false
  }
 },
 "nbformat": 4,
 "nbformat_minor": 4
}
